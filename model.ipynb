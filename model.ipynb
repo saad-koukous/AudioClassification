{
 "cells": [
  {
   "cell_type": "markdown",
   "metadata": {},
   "source": [
    "We Start our model by importing all libraries needed"
   ]
  },
  {
   "cell_type": "code",
   "execution_count": 2,
   "metadata": {},
   "outputs": [],
   "source": [
    "import os\n",
    "from tqdm import tqdm\n",
    "import pandas as pd\n",
    "import numpy as np\n",
    "import matplotlib.pyplot as plt\n",
    "from scipy.io import wavfile\n",
    "from python_speech_features import mfcc, logfbank\n",
    "import librosa\n",
    "import csv\n",
    "from keras.layers import Conv2D,MaxPool2D,Flatten,LSTM,Dropout,Dense,TimeDistributed\n",
    "from keras.models import Sequential\n",
    "from keras.utils import to_categorical\n",
    "from sklearn.utils.class_weight import compute_class_weight\n",
    "from tqdm import tqdm\n",
    "from python_speech_features import mfcc\n",
    "from keras.callbacks import ModelCheckpoint\n",
    "import pickle\n",
    "from keras.models import load_model \n",
    "from cfg import Config\n"
   ]
  },
  {
   "cell_type": "code",
   "execution_count": 16,
   "metadata": {},
   "outputs": [],
   "source": [
    "file_dir = r\"C:\\Users\\fzhaj\\Desktop\\Projet 5A\\DCASE_2023_Challenge_Task_7_Dataset\\clean_dev\\\\\""
   ]
  },
  {
   "cell_type": "markdown",
   "metadata": {},
   "source": [
    "Here we check if our directory contain prepared data"
   ]
  },
  {
   "cell_type": "code",
   "execution_count": null,
   "metadata": {},
   "outputs": [],
   "source": [
    "def check_data():\n",
    "    if os.path.isfile(config.p_path):\n",
    "        print('Loading existing data for model')\n",
    "        with open(config.p_path,'rb') as handle:\n",
    "            tmp = pickle.load(handle)\n",
    "            return tmp\n",
    "    else:\n",
    "        return None"
   ]
  },
  {
   "cell_type": "markdown",
   "metadata": {},
   "source": [
    "Let's build our random features using defined parametres in cfg.py "
   ]
  },
  {
   "cell_type": "code",
   "execution_count": 9,
   "metadata": {},
   "outputs": [],
   "source": [
    "def build_rand_feat(train=True):\n",
    "    tmp = check_data()\n",
    "    if(train):\n",
    "        if tmp:\n",
    "            return tmp.data[0],tmp.data[1]\n",
    "    \n",
    "    X = []\n",
    "    y = []\n",
    "    if(tmp):\n",
    "        _min , _max = tmp.min,tmp.max\n",
    "    else:\n",
    "        _min , _max = float('inf'), -float('inf')\n",
    "    for _ in tqdm(range(n_samples)):\n",
    "        rand_class = np.random.choice(class_dist.index,p=probabilties)\n",
    "        file = np.random.choice(df[df.label==rand_class].index)\n",
    "        rate,wav = wavfile.read(file_dir+file)\n",
    "        label = df.at[file,'label']\n",
    "        rand_index = np.random.randint(0,wav.shape[0]-config.step)\n",
    "        sample = wav[rand_index:rand_index+config.step]\n",
    "        X_sample = mfcc(sample,rate,numcep=config.nfeat,nfilt=config.nfilt,nfft=config.nfft)\n",
    "        if(not tmp):\n",
    "            _min = min(np.amin(X_sample),_min)\n",
    "            _max = max(np.amax(X_sample),_max)\n",
    "        X.append(X_sample)\n",
    "        y.append(classes.index(label))\n",
    "    config.min = _min\n",
    "    config.max = _max\n",
    "    X,y = np.array(X),np.array(y)\n",
    "    X = (X - _min)/(_max - _min)\n",
    "    X = X.reshape(X.shape[0],X.shape[1],X.shape[2],1)\n",
    "    y = to_categorical(y,num_classes=7)\n",
    "    config.data = (X,y)\n",
    "    with open(config.p_path,'wb') as handle:\n",
    "        pickle.dump(config,handle,protocol=2)\n",
    "    return X,y\n",
    "    "
   ]
  },
  {
   "cell_type": "markdown",
   "metadata": {},
   "source": [
    "This cell defines a convolutional neural network (CNN) model for audio classification. The model architecture consists of multiple convolutional layers followed by max pooling, dropout, and dense layers. The output layer uses softmax activation for multi-class classification. The model is compiled with the categorical cross-entropy loss function, Adam optimizer, and accuracy metric."
   ]
  },
  {
   "cell_type": "code",
   "execution_count": 10,
   "metadata": {},
   "outputs": [],
   "source": [
    "def conv_model():\n",
    "    model = Sequential()\n",
    "    model.add(Conv2D(16,(3,3),activation='relu',strides=(1,1),padding='same',input_shape=input_shape))\n",
    "    model.add(Conv2D(32,(3,3),activation='relu',strides=(1,1),padding='same'))\n",
    "    model.add(Conv2D(64,(3,3),activation='relu',strides=(1,1),padding='same'))\n",
    "    model.add(Conv2D(128,(3,3),activation='relu',strides=(1,1),padding='same'))\n",
    "    model.add(MaxPool2D((2,2)))\n",
    "    model.add(Dropout(0.5))\n",
    "    model.add(Flatten())\n",
    "    model.add(Dense(128,activation='relu'))\n",
    "    model.add(Dense(64,activation='relu'))\n",
    "    model.add(Dense(7,activation='softmax'))\n",
    "    model.summary()\n",
    "    model.compile(loss='categorical_crossentropy',optimizer='adam',metrics=['acc'])\n",
    "    return model"
   ]
  },
  {
   "cell_type": "code",
   "execution_count": 12,
   "metadata": {},
   "outputs": [],
   "source": [
    "df = pd.read_csv('data_labeled.csv')\n",
    "df.set_index('fname',inplace =True)"
   ]
  },
  {
   "cell_type": "code",
   "execution_count": 17,
   "metadata": {},
   "outputs": [],
   "source": [
    "for f in df.index:\n",
    "    rate,signal = wavfile.read(file_dir+f)\n",
    "    df.at[f,'length'] = signal.shape[0]/rate"
   ]
  },
  {
   "cell_type": "code",
   "execution_count": 18,
   "metadata": {},
   "outputs": [],
   "source": [
    "df = df[df['length'] > 0.5]"
   ]
  },
  {
   "cell_type": "code",
   "execution_count": 19,
   "metadata": {},
   "outputs": [
    {
     "data": {
      "text/plain": [
       "label\n",
       "dog_bark                2.919940\n",
       "footstep                3.460266\n",
       "gunshot                 3.086763\n",
       "keyboard                3.680230\n",
       "moving_motor_vehicle    3.969351\n",
       "rain                    3.933350\n",
       "sneeze_cough            2.268705\n",
       "Name: length, dtype: float64"
      ]
     },
     "execution_count": 19,
     "metadata": {},
     "output_type": "execute_result"
    }
   ],
   "source": [
    "classes = list(np.unique(df.label))\n",
    "class_dist = df.groupby(['label'])['length'].mean()\n",
    "class_dist"
   ]
  },
  {
   "cell_type": "code",
   "execution_count": 20,
   "metadata": {},
   "outputs": [
    {
     "data": {
      "image/png": "[encoded data removed]",
      "text/plain": [
       "<Figure size 640x480 with 1 Axes>"
      ]
     },
     "metadata": {},
     "output_type": "display_data"
    }
   ],
   "source": [
    "fig,ax = plt.subplots()\n",
    "ax.set_title('Class Distribution',y=1.08)\n",
    "ax.pie(class_dist,labels=class_dist.index,autopct='%1.1f%%',shadow=False,startangle=90)\n",
    "ax.axis('equal')\n",
    "plt.show()"
   ]
  },
  {
   "cell_type": "code",
   "execution_count": 21,
   "metadata": {},
   "outputs": [
    {
     "data": {
      "text/plain": [
       "(63798,\n",
       " label\n",
       " dog_bark                0.125219\n",
       " footstep                0.148391\n",
       " gunshot                 0.132373\n",
       " keyboard                0.157824\n",
       " moving_motor_vehicle    0.170222\n",
       " rain                    0.168679\n",
       " sneeze_cough            0.097292\n",
       " Name: length, dtype: float64,\n",
       " 'sneeze_cough')"
      ]
     },
     "execution_count": 21,
     "metadata": {},
     "output_type": "execute_result"
    }
   ],
   "source": [
    "n_samples = 2*int(df['length'].sum()/0.5)\n",
    "probabilties = class_dist/class_dist.sum()\n",
    "choices = np.random.choice(class_dist.index,p=probabilties)\n",
    "n_samples,probabilties,choices"
   ]
  },
  {
   "cell_type": "code",
   "execution_count": 22,
   "metadata": {},
   "outputs": [],
   "source": [
    "config = Config()"
   ]
  },
  {
   "cell_type": "code",
   "execution_count": 23,
   "metadata": {},
   "outputs": [
    {
     "name": "stderr",
     "output_type": "stream",
     "text": [
      "100%|██████████| 63798/63798 [02:44<00:00, 388.82it/s]\n"
     ]
    }
   ],
   "source": [
    "X,y = build_rand_feat()\n"
   ]
  },
  {
   "cell_type": "code",
   "execution_count": 25,
   "metadata": {},
   "outputs": [
    {
     "data": {
      "text/plain": [
       "(8878,\n",
       " label\n",
       " dog_bark                0.127232\n",
       " footstep                0.149834\n",
       " gunshot                 0.118056\n",
       " keyboard                0.147385\n",
       " moving_motor_vehicle    0.174341\n",
       " rain                    0.175241\n",
       " sneeze_cough            0.107911\n",
       " Name: length, dtype: float64,\n",
       " 'gunshot')"
      ]
     },
     "execution_count": 25,
     "metadata": {},
     "output_type": "execute_result"
    }
   ],
   "source": [
    "eval_dir = r\"C:\\Users\\fzhaj\\Desktop\\Projet 5A\\DCASE_2023_Challenge_Task_7_Dataset\\clean_eval\\\\\"\n",
    "df_eval = pd.read_csv('eval_labeled.csv')\n",
    "df_eval.set_index('fname',inplace =True)\n",
    "for f in df_eval.index:\n",
    "    rate,signal = wavfile.read(file_dir+f)\n",
    "    df_eval.at[f,'length'] = signal.shape[0]/rate\n",
    "\n",
    "df_eval = df_eval[df_eval['length'] > 0.5]\n",
    "classes = list(np.unique(df_eval.label))\n",
    "class_dist = df_eval.groupby(['label'])['length'].mean()\n",
    "\n",
    "n_samples = 2*int(df_eval['length'].sum()/0.5)\n",
    "probabilties = class_dist/class_dist.sum()\n",
    "choices = np.random.choice(class_dist.index,p=probabilties)\n",
    "n_samples,probabilties,choices"
   ]
  },
  {
   "cell_type": "code",
   "execution_count": 26,
   "metadata": {},
   "outputs": [
    {
     "name": "stderr",
     "output_type": "stream",
     "text": [
      "100%|██████████| 8878/8878 [00:24<00:00, 365.89it/s]\n"
     ]
    }
   ],
   "source": [
    "X_eval,y_eval = build_rand_feat(False)"
   ]
  },
  {
   "cell_type": "code",
   "execution_count": 27,
   "metadata": {},
   "outputs": [
    {
     "name": "stdout",
     "output_type": "stream",
     "text": [
      "Model: \"sequential\"\n",
      "_________________________________________________________________\n",
      " Layer (type)                Output Shape              Param #   \n",
      "=================================================================\n",
      " conv2d (Conv2D)             (None, 49, 13, 16)        160       \n",
      "                                                                 \n",
      " conv2d_1 (Conv2D)           (None, 49, 13, 32)        4640      \n",
      "                                                                 \n",
      " conv2d_2 (Conv2D)           (None, 49, 13, 64)        18496     \n",
      "                                                                 \n",
      " conv2d_3 (Conv2D)           (None, 49, 13, 128)       73856     \n",
      "                                                                 \n",
      " max_pooling2d (MaxPooling2  (None, 24, 6, 128)        0         \n",
      " D)                                                              \n",
      "                                                                 \n",
      " dropout (Dropout)           (None, 24, 6, 128)        0         \n",
      "                                                                 \n",
      " flatten (Flatten)           (None, 18432)             0         \n",
      "                                                                 \n",
      " dense (Dense)               (None, 128)               2359424   \n",
      "                                                                 \n",
      " dense_1 (Dense)             (None, 64)                8256      \n",
      "                                                                 \n",
      " dense_2 (Dense)             (None, 7)                 455       \n",
      "                                                                 \n",
      "=================================================================\n",
      "Total params: 2465287 (9.40 MB)\n",
      "Trainable params: 2465287 (9.40 MB)\n",
      "Non-trainable params: 0 (0.00 Byte)\n",
      "_________________________________________________________________\n",
      "WARNING:tensorflow:`period` argument is deprecated. Please use `save_freq` to specify the frequency in number of batches seen.\n",
      "Epoch 1/10\n",
      "1994/1994 [==============================] - ETA: 0s - loss: 0.9886 - acc: 0.6260\n",
      "Epoch 1: val_acc improved from -inf to 0.76391, saving model to models.model\n",
      "INFO:tensorflow:Assets written to: models.model\\assets\n"
     ]
    },
    {
     "name": "stderr",
     "output_type": "stream",
     "text": [
      "INFO:tensorflow:Assets written to: models.model\\assets\n"
     ]
    },
    {
     "name": "stdout",
     "output_type": "stream",
     "text": [
      "1994/1994 [==============================] - 286s 143ms/step - loss: 0.9886 - acc: 0.6260 - val_loss: 0.6647 - val_acc: 0.7639\n",
      "Epoch 2/10\n",
      "1994/1994 [==============================] - ETA: 0s - loss: 0.5901 - acc: 0.7931\n",
      "Epoch 2: val_acc improved from 0.76391 to 0.79928, saving model to models.model\n",
      "INFO:tensorflow:Assets written to: models.model\\assets\n"
     ]
    },
    {
     "name": "stderr",
     "output_type": "stream",
     "text": [
      "INFO:tensorflow:Assets written to: models.model\\assets\n"
     ]
    },
    {
     "name": "stdout",
     "output_type": "stream",
     "text": [
      "1994/1994 [==============================] - 284s 143ms/step - loss: 0.5901 - acc: 0.7931 - val_loss: 0.5583 - val_acc: 0.7993\n",
      "Epoch 3/10\n",
      "1994/1994 [==============================] - ETA: 0s - loss: 0.4524 - acc: 0.8431\n",
      "Epoch 3: val_acc did not improve from 0.79928\n",
      "1994/1994 [==============================] - 303s 152ms/step - loss: 0.4524 - acc: 0.8431 - val_loss: 0.5597 - val_acc: 0.7988\n",
      "Epoch 4/10\n",
      "1994/1994 [==============================] - ETA: 0s - loss: 0.3752 - acc: 0.8697\n",
      "Epoch 4: val_acc improved from 0.79928 to 0.87385, saving model to models.model\n",
      "INFO:tensorflow:Assets written to: models.model\\assets\n"
     ]
    },
    {
     "name": "stderr",
     "output_type": "stream",
     "text": [
      "INFO:tensorflow:Assets written to: models.model\\assets\n"
     ]
    },
    {
     "name": "stdout",
     "output_type": "stream",
     "text": [
      "1994/1994 [==============================] - 303s 152ms/step - loss: 0.3752 - acc: 0.8697 - val_loss: 0.3645 - val_acc: 0.8738\n",
      "Epoch 5/10\n",
      "1994/1994 [==============================] - ETA: 0s - loss: 0.3236 - acc: 0.8890\n",
      "Epoch 5: val_acc did not improve from 0.87385\n",
      "1994/1994 [==============================] - 305s 153ms/step - loss: 0.3236 - acc: 0.8890 - val_loss: 0.4048 - val_acc: 0.8664\n",
      "Epoch 6/10\n",
      "1994/1994 [==============================] - ETA: 0s - loss: 0.2835 - acc: 0.9023\n",
      "Epoch 6: val_acc improved from 0.87385 to 0.89525, saving model to models.model\n",
      "INFO:tensorflow:Assets written to: models.model\\assets\n"
     ]
    },
    {
     "name": "stderr",
     "output_type": "stream",
     "text": [
      "INFO:tensorflow:Assets written to: models.model\\assets\n"
     ]
    },
    {
     "name": "stdout",
     "output_type": "stream",
     "text": [
      "1994/1994 [==============================] - 305s 153ms/step - loss: 0.2835 - acc: 0.9023 - val_loss: 0.3090 - val_acc: 0.8952\n",
      "Epoch 7/10\n",
      "1994/1994 [==============================] - ETA: 0s - loss: 0.2478 - acc: 0.9134\n",
      "Epoch 7: val_acc improved from 0.89525 to 0.90865, saving model to models.model\n",
      "INFO:tensorflow:Assets written to: models.model\\assets\n"
     ]
    },
    {
     "name": "stderr",
     "output_type": "stream",
     "text": [
      "INFO:tensorflow:Assets written to: models.model\\assets\n"
     ]
    },
    {
     "name": "stdout",
     "output_type": "stream",
     "text": [
      "1994/1994 [==============================] - 266s 133ms/step - loss: 0.2478 - acc: 0.9134 - val_loss: 0.2667 - val_acc: 0.9087\n",
      "Epoch 8/10\n",
      "1994/1994 [==============================] - ETA: 0s - loss: 0.2295 - acc: 0.9213\n",
      "Epoch 8: val_acc improved from 0.90865 to 0.91214, saving model to models.model\n",
      "INFO:tensorflow:Assets written to: models.model\\assets\n"
     ]
    },
    {
     "name": "stderr",
     "output_type": "stream",
     "text": [
      "INFO:tensorflow:Assets written to: models.model\\assets\n"
     ]
    },
    {
     "name": "stdout",
     "output_type": "stream",
     "text": [
      "1994/1994 [==============================] - 245s 123ms/step - loss: 0.2295 - acc: 0.9213 - val_loss: 0.2508 - val_acc: 0.9121\n",
      "Epoch 9/10\n",
      "1994/1994 [==============================] - ETA: 0s - loss: 0.2045 - acc: 0.9291\n",
      "Epoch 9: val_acc did not improve from 0.91214\n",
      "1994/1994 [==============================] - 254s 128ms/step - loss: 0.2045 - acc: 0.9291 - val_loss: 0.2911 - val_acc: 0.9075\n",
      "Epoch 10/10\n",
      "1994/1994 [==============================] - ETA: 0s - loss: 0.1906 - acc: 0.9350\n",
      "Epoch 10: val_acc did not improve from 0.91214\n",
      "1994/1994 [==============================] - 255s 128ms/step - loss: 0.1906 - acc: 0.9350 - val_loss: 0.2711 - val_acc: 0.9114\n"
     ]
    },
    {
     "data": {
      "text/plain": [
       "<keras.src.callbacks.History at 0x20b7ff5e800>"
      ]
     },
     "execution_count": 27,
     "metadata": {},
     "output_type": "execute_result"
    }
   ],
   "source": [
    "y_flat = np.argmax(y,axis=1)\n",
    "input_shape = (X.shape[1],X.shape[2],1)\n",
    "model = conv_model()\n",
    "class_weight = compute_class_weight(class_weight = \"balanced\", classes = np.unique(y_flat), y = y_flat)\n",
    "class_weights = dict(zip(np.unique(y_flat), class_weight))\n",
    "checkpoint = ModelCheckpoint('models.model',monitor='val_acc',verbose=1,mode='max',save_best_only=True,save_weights_only=False,period=1)\n",
    "model.fit(X,y,epochs=10, batch_size=32,shuffle=True,class_weight=class_weights,validation_data=(X_eval,y_eval),callbacks=[checkpoint])\n"
   ]
  },
  {
   "cell_type": "code",
   "execution_count": 70,
   "metadata": {},
   "outputs": [
    {
     "name": "stdout",
     "output_type": "stream",
     "text": [
      "INFO:tensorflow:Assets written to: model.model\\assets\n"
     ]
    },
    {
     "name": "stderr",
     "output_type": "stream",
     "text": [
      "INFO:tensorflow:Assets written to: model.model\\assets\n"
     ]
    }
   ],
   "source": [
    "model.save('model.model')"
   ]
  },
  {
   "cell_type": "code",
   "execution_count": 29,
   "metadata": {},
   "outputs": [
    {
     "name": "stderr",
     "output_type": "stream",
     "text": [
      "WARNING:absl:Optimization option OPTIMIZE_FOR_SIZE is deprecated, please use optimizations=[Optimize.DEFAULT] instead.\n"
     ]
    },
    {
     "name": "stdout",
     "output_type": "stream",
     "text": [
      "INFO:tensorflow:Assets written to: C:\\Users\\fzhaj\\AppData\\Local\\Temp\\tmpt9hl_ic9\\assets\n"
     ]
    },
    {
     "name": "stderr",
     "output_type": "stream",
     "text": [
      "INFO:tensorflow:Assets written to: C:\\Users\\fzhaj\\AppData\\Local\\Temp\\tmpt9hl_ic9\\assets\n",
      "WARNING:absl:Optimization option OPTIMIZE_FOR_SIZE is deprecated, please use optimizations=[Optimize.DEFAULT] instead.\n",
      "WARNING:absl:Optimization option OPTIMIZE_FOR_SIZE is deprecated, please use optimizations=[Optimize.DEFAULT] instead.\n"
     ]
    },
    {
     "data": {
      "text/plain": [
       "2475816"
      ]
     },
     "execution_count": 29,
     "metadata": {},
     "output_type": "execute_result"
    }
   ],
   "source": [
    "import tensorflow as tf\n",
    "# Convert Keras model to a tflite model\n",
    "converter = tf.lite.TFLiteConverter.from_keras_model(model)\n",
    "converter.optimizations = [tf.lite.Optimize.OPTIMIZE_FOR_SIZE]\n",
    "tflite_model = converter.convert()\n",
    "\n",
    "open('audio_model' + '.tflite', 'wb').write(tflite_model)"
   ]
  },
  {
   "cell_type": "code",
   "execution_count": null,
   "metadata": {},
   "outputs": [],
   "source": []
  }
 ],
 "metadata": {
  "kernelspec": {
   "display_name": "Python 3",
   "language": "python",
   "name": "python3"
  },
  "language_info": {
   "codemirror_mode": {
    "name": "ipython",
    "version": 3
   },
   "file_extension": ".py",
   "mimetype": "text/x-python",
   "name": "python",
   "nbconvert_exporter": "python",
   "pygments_lexer": "ipython3",
   "version": "3.9.6"
  }
 },
 "nbformat": 4,
 "nbformat_minor": 2
}
